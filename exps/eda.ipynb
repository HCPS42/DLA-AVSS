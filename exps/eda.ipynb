{
 "cells": [
  {
   "cell_type": "code",
   "execution_count": 11,
   "metadata": {},
   "outputs": [
    {
     "name": "stdout",
     "output_type": "stream",
     "text": [
      "Number of mouths: 19434\n"
     ]
    }
   ],
   "source": [
    "import os\n",
    "\n",
    "folder_path = 'D:/MyDesktop/Audio/DLA-AVSS/data/dla_dataset/mouths'\n",
    "mouths = [f for f in os.listdir(folder_path) if os.path.isfile(os.path.join(folder_path, f))]\n",
    "print(f\"Number of mouths: {len(mouths)}\")"
   ]
  },
  {
   "cell_type": "code",
   "execution_count": 12,
   "metadata": {},
   "outputs": [
    {
     "name": "stdout",
     "output_type": "stream",
     "text": [
      "D:\\MyDesktop\\Audio\\DLA-AVSS\\data\\dla_dataset\n",
      "Total number of files found: 28000\n",
      "Total number of ids: 19434\n"
     ]
    }
   ],
   "source": [
    "from pathlib import Path\n",
    "from src.utils.io_utils import ROOT_PATH\n",
    "\n",
    "\n",
    "dir = ROOT_PATH / Path(\"data/dla_dataset\")\n",
    "print(dir)\n",
    "\n",
    "folders_to_search = [\n",
    "    dir / \"audio/train/mix\",\n",
    "    dir / \"audio/test/mix\",\n",
    "    dir / \"audio/val/mix\"\n",
    "]\n",
    "\n",
    "all_files = set()\n",
    "for folder in folders_to_search:\n",
    "    all_files.update([str(file) for file in folder.glob('**/*') if file.is_file()])\n",
    "\n",
    "print(f\"Total number of files found: {len(all_files)}\")\n",
    "\n",
    "all_files = list(all_files)\n",
    "all_files = [file.split('\\\\')[-1] for file in all_files]\n",
    "\n",
    "all_ids = set()\n",
    "for file in all_files:\n",
    "    all_ids.add(file.split('_')[0])\n",
    "    all_ids.add(file.split('_')[1][:-4])\n",
    "all_ids = list(all_ids)\n",
    "\n",
    "for i in all_ids:\n",
    "    assert i + '.npz' in mouths\n",
    "\n",
    "print(\"Total number of ids:\", len(all_ids))"
   ]
  },
  {
   "cell_type": "markdown",
   "metadata": {},
   "source": [
    "python train.py -cn=conv-tasnet-baseline trainer.override=False trainer.device_ids=[0] trainer.resume_from=\"model_best.pth\" trainer.n_epochs=40"
   ]
  },
  {
   "cell_type": "code",
   "execution_count": 2,
   "metadata": {},
   "outputs": [
    {
     "name": "stdout",
     "output_type": "stream",
     "text": [
      "Shape of frames array: (50, 96, 96)\n"
     ]
    }
   ],
   "source": [
    "import numpy as np\n",
    "import cv2\n",
    "import os\n",
    "\n",
    "\n",
    "path = 'data/dla_dataset/mouths/'\n",
    "files = os.listdir(path)\n",
    "\n",
    "npz_file = np.load(f'data/dla_dataset/mouths/{files[10000]}')\n",
    "\n",
    "frames = npz_file['data']\n",
    "\n",
    "print(\"Shape of frames array:\", frames.shape)\n",
    "\n",
    "for frame in frames:\n",
    "    frame = frame.astype(np.uint8)    \n",
    "    cv2.imshow('Video', frame)\n",
    "    if cv2.waitKey(100) & 0xFF == ord('q'):\n",
    "        break\n",
    "\n",
    "cv2.destroyAllWindows()\n",
    "npz_file.close()"
   ]
  },
  {
   "cell_type": "code",
   "execution_count": 4,
   "metadata": {},
   "outputs": [
    {
     "name": "stdout",
     "output_type": "stream",
     "text": [
      "Shape of frames array: (50, 512)\n",
      "[[-0.11330941 -0.11828102 -0.10756298 ...  0.14136718 -0.09221777\n",
      "   0.00228598]\n",
      " [-0.08189496 -0.05640006 -0.09972193 ... -0.09749741  0.03205474\n",
      "   0.08040293]\n",
      " [-0.10114203 -0.02449729 -0.09068808 ... -0.05603265 -0.05672693\n",
      "   0.09957554]\n",
      " ...\n",
      " [-0.10003147 -0.06300171 -0.01544812 ... -0.01060615 -0.06721249\n",
      "   0.00345985]\n",
      " [-0.12066182 -0.08771992 -0.04595585 ... -0.06440631 -0.10304234\n",
      "   0.0956558 ]\n",
      " [-0.10181612 -0.00678791 -0.02959658 ...  0.03661477 -0.0785524\n",
      "   0.0563571 ]]\n"
     ]
    }
   ],
   "source": [
    "path = 'data/dla_dataset/visual_embeddings/'\n",
    "files = os.listdir(path)\n",
    "\n",
    "npz_file = np.load(f'data/dla_dataset/visual_embeddings/{files[0]}')\n",
    "\n",
    "frames = npz_file['embeddings']\n",
    "\n",
    "print(\"Shape of frames array:\", frames.shape)\n",
    "\n",
    "print(frames)"
   ]
  },
  {
   "cell_type": "code",
   "execution_count": 13,
   "metadata": {},
   "outputs": [],
   "source": [
    "num_filters = 512           # N\n",
    "filter_length = 32          # L (in time steps; 32/16000 = 2ms)\n",
    "bottleneck_channels = 128   # B\n",
    "conv_num_channels = 512     # H\n",
    "conv_kernel_size = 3        # P\n",
    "num_conv_blocks = 8         # X\n",
    "num_tcn_blocks = 3          # R"
   ]
  },
  {
   "cell_type": "code",
   "execution_count": 194,
   "metadata": {},
   "outputs": [
    {
     "name": "stdout",
     "output_type": "stream",
     "text": [
      "Total number of parameters: 8391041\n"
     ]
    }
   ],
   "source": [
    "from src.model.conv_tasnet import ConvTasNetModel\n",
    "\n",
    "def calc_params(model):\n",
    "    total_params = sum(p.numel() for p in model.parameters())\n",
    "\n",
    "    print(f\"Total number of parameters: {total_params}\")\n",
    "\n",
    "\n",
    "model = ConvTasNetModel(\n",
    "    num_filters=512, # up\n",
    "    filter_length=16, # down\n",
    "    bottleneck_channels=128, # up \n",
    "    conv_num_channels=512,\n",
    "    conv_kernel_size=3,\n",
    "    num_conv_blocks=8, # up\n",
    "    num_tcn_blocks=3, # up\n",
    ")\n",
    "\n",
    "model = ConvTasNetModel(\n",
    "    num_filters=512,     \n",
    "    filter_length=16,    \n",
    "    bottleneck_channels=64,\n",
    "    conv_num_channels=128,  \n",
    "    conv_kernel_size=3,     \n",
    "    num_conv_blocks=8,\n",
    "    num_tcn_blocks=40\n",
    ")\n",
    "\n",
    "calc_params(model)"
   ]
  },
  {
   "cell_type": "code",
   "execution_count": null,
   "metadata": {},
   "outputs": [],
   "source": [
    "_target_: src.model.AudioVisualModel\n",
    "audio_model:\n",
    "  _target_: src.model.ConvTasNetModel\n",
    "  num_filters: 512           # N\n",
    "  filter_length: 16          # L (in time steps; 16/8000 = 2ms)\n",
    "  bottleneck_channels: 128   # B\n",
    "  conv_num_channels: 512     # H\n",
    "  conv_kernel_size: 3        # P\n",
    "  num_conv_blocks: 8         # X\n",
    "  num_tcn_blocks: 3          # R\n",
    "visual_model:\n",
    "  _target_: src.model.visual_model.ConvTasNetVisualModel\n",
    "  embedding_size: 512\n",
    "  num_layers: 5\n",
    "pre_audio_encoder:\n",
    "  _target_: src.model.utils.TemporalConvNet\n",
    "  in_channels: 512\n",
    "  out_channels: 512\n",
    "  bottleneck_channels: 128\n",
    "  hidden_channels: 512\n",
    "  num_conv_blocks: 8\n",
    "  num_tcn_blocks: 3\n",
    "  kernel_size: 3\n"
   ]
  },
  {
   "cell_type": "code",
   "execution_count": null,
   "metadata": {},
   "outputs": [
    {
     "name": "stdout",
     "output_type": "stream",
     "text": [
      "Total number of parameters: 25362976\n"
     ]
    }
   ],
   "source": [
    "from src.model import AudioVisualModel, ConvTasNetModel\n",
    "from src.model.visual_model import ConvTasNetVisualModel\n",
    "from src.model.utils import TemporalConvNet\n",
    "\n",
    "audio_model = ConvTasNetModel(\n",
    "    num_filters=512,\n",
    "    filter_length=16,\n",
    "    bottleneck_channels=256,\n",
    "    conv_num_channels=1024,\n",
    "    conv_kernel_size=3,\n",
    "    num_conv_blocks=10,\n",
    "    num_tcn_blocks=2\n",
    ")\n",
    "\n",
    "visual_model = ConvTasNetVisualModel(\n",
    "    embedding_size=512,\n",
    "    num_layers=5\n",
    ")\n",
    "\n",
    "pre_audio_encoder = TemporalConvNet(\n",
    "    in_channels=512,\n",
    "    out_channels=512,\n",
    "    bottleneck_channels=256,\n",
    "    hidden_channels=1024,\n",
    "    num_conv_blocks=10,\n",
    "    num_tcn_blocks=1,\n",
    "    kernel_size=3\n",
    ")\n",
    "\n",
    "model = AudioVisualModel(audio_model, visual_model, pre_audio_encoder)\n",
    "\n",
    "calc_params(model)"
   ]
  }
 ],
 "metadata": {
  "kernelspec": {
   "display_name": "DLA_AVSS",
   "language": "python",
   "name": "python3"
  },
  "language_info": {
   "codemirror_mode": {
    "name": "ipython",
    "version": 3
   },
   "file_extension": ".py",
   "mimetype": "text/x-python",
   "name": "python",
   "nbconvert_exporter": "python",
   "pygments_lexer": "ipython3",
   "version": "3.11.10"
  }
 },
 "nbformat": 4,
 "nbformat_minor": 2
}
